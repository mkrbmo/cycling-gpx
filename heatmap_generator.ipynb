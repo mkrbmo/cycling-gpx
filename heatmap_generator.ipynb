{
 "cells": [
  {
   "cell_type": "code",
   "execution_count": 1,
   "id": "b7fb29b0",
   "metadata": {},
   "outputs": [],
   "source": [
    "import csv\n",
    "import pandas as pd\n",
    "import numpy as np"
   ]
  },
  {
   "cell_type": "code",
   "execution_count": 2,
   "id": "633a9eb2",
   "metadata": {},
   "outputs": [],
   "source": [
    "heatmap_df = None"
   ]
  },
  {
   "cell_type": "code",
   "execution_count": null,
   "id": "82432a8a",
   "metadata": {},
   "outputs": [],
   "source": [
    "def init_heatmap():\n",
    "    "
   ]
  },
  {
   "cell_type": "code",
   "execution_count": null,
   "id": "e9a90fb5",
   "metadata": {},
   "outputs": [],
   "source": [
    "def add_to_heatmap(reader):\n",
    "    if heatmap_df is None:\n",
    "        heatmap_df = pd.DataFrame(reader)\n",
    "        return \n",
    "    next(reader)\n",
    "    for _ in range(10):\n",
    "        print(next(reader))"
   ]
  },
  {
   "cell_type": "code",
   "execution_count": 5,
   "id": "55eedbe2",
   "metadata": {},
   "outputs": [
    {
     "name": "stdout",
     "output_type": "stream",
     "text": [
      "['37.75835', '-122.421394']\n",
      "['37.758352', '-122.421392']\n",
      "['37.758359', '-122.421388']\n",
      "['37.758364', '-122.42138']\n",
      "['37.758368', '-122.421367']\n",
      "['37.758368', '-122.421367']\n",
      "['37.758379', '-122.421356']\n",
      "['37.758379', '-122.421356']\n",
      "['37.758383', '-122.42135']\n",
      "['37.758388', '-122.421344']\n"
     ]
    },
    {
     "data": {
      "text/html": [
       "<div>\n",
       "<style scoped>\n",
       "    .dataframe tbody tr th:only-of-type {\n",
       "        vertical-align: middle;\n",
       "    }\n",
       "\n",
       "    .dataframe tbody tr th {\n",
       "        vertical-align: top;\n",
       "    }\n",
       "\n",
       "    .dataframe thead th {\n",
       "        text-align: right;\n",
       "    }\n",
       "</style>\n",
       "<table border=\"1\" class=\"dataframe\">\n",
       "  <thead>\n",
       "    <tr style=\"text-align: right;\">\n",
       "      <th></th>\n",
       "      <th>lat</th>\n",
       "      <th>long</th>\n",
       "    </tr>\n",
       "  </thead>\n",
       "  <tbody>\n",
       "    <tr>\n",
       "      <th>0</th>\n",
       "      <td>37.758350</td>\n",
       "      <td>-122.421394</td>\n",
       "    </tr>\n",
       "    <tr>\n",
       "      <th>1</th>\n",
       "      <td>37.758352</td>\n",
       "      <td>-122.421392</td>\n",
       "    </tr>\n",
       "    <tr>\n",
       "      <th>2</th>\n",
       "      <td>37.758359</td>\n",
       "      <td>-122.421388</td>\n",
       "    </tr>\n",
       "    <tr>\n",
       "      <th>3</th>\n",
       "      <td>37.758364</td>\n",
       "      <td>-122.421380</td>\n",
       "    </tr>\n",
       "    <tr>\n",
       "      <th>4</th>\n",
       "      <td>37.758368</td>\n",
       "      <td>-122.421367</td>\n",
       "    </tr>\n",
       "  </tbody>\n",
       "</table>\n",
       "</div>"
      ],
      "text/plain": [
       "         lat        long\n",
       "0  37.758350 -122.421394\n",
       "1  37.758352 -122.421392\n",
       "2  37.758359 -122.421388\n",
       "3  37.758364 -122.421380\n",
       "4  37.758368 -122.421367"
      ]
     },
     "execution_count": 5,
     "metadata": {},
     "output_type": "execute_result"
    }
   ],
   "source": [
    "\n",
    "with open ('first.csv', 'r') as first_coords:\n",
    "    reader = csv.reader(first_coords)\n",
    "    \n",
    "    \n",
    "heatmap_df.head()"
   ]
  },
  {
   "cell_type": "code",
   "execution_count": 35,
   "id": "6f4db747",
   "metadata": {
    "scrolled": true
   },
   "outputs": [
    {
     "data": {
      "text/html": [
       "<div>\n",
       "<style scoped>\n",
       "    .dataframe tbody tr th:only-of-type {\n",
       "        vertical-align: middle;\n",
       "    }\n",
       "\n",
       "    .dataframe tbody tr th {\n",
       "        vertical-align: top;\n",
       "    }\n",
       "\n",
       "    .dataframe thead th {\n",
       "        text-align: right;\n",
       "    }\n",
       "</style>\n",
       "<table border=\"1\" class=\"dataframe\">\n",
       "  <thead>\n",
       "    <tr style=\"text-align: right;\">\n",
       "      <th></th>\n",
       "      <th>lat</th>\n",
       "      <th>long</th>\n",
       "    </tr>\n",
       "  </thead>\n",
       "  <tbody>\n",
       "    <tr>\n",
       "      <th>0</th>\n",
       "      <td>37.758350</td>\n",
       "      <td>-122.421394</td>\n",
       "    </tr>\n",
       "    <tr>\n",
       "      <th>1</th>\n",
       "      <td>37.758352</td>\n",
       "      <td>-122.421392</td>\n",
       "    </tr>\n",
       "    <tr>\n",
       "      <th>2</th>\n",
       "      <td>37.758359</td>\n",
       "      <td>-122.421388</td>\n",
       "    </tr>\n",
       "    <tr>\n",
       "      <th>3</th>\n",
       "      <td>37.758364</td>\n",
       "      <td>-122.421380</td>\n",
       "    </tr>\n",
       "    <tr>\n",
       "      <th>4</th>\n",
       "      <td>37.758368</td>\n",
       "      <td>-122.421367</td>\n",
       "    </tr>\n",
       "  </tbody>\n",
       "</table>\n",
       "</div>"
      ],
      "text/plain": [
       "         lat        long\n",
       "0  37.758350 -122.421394\n",
       "1  37.758352 -122.421392\n",
       "2  37.758359 -122.421388\n",
       "3  37.758364 -122.421380\n",
       "4  37.758368 -122.421367"
      ]
     },
     "execution_count": 35,
     "metadata": {},
     "output_type": "execute_result"
    }
   ],
   "source": [
    "df = heatmap_df\n",
    "df.head()"
   ]
  },
  {
   "cell_type": "code",
   "execution_count": 42,
   "id": "4525372e",
   "metadata": {},
   "outputs": [
    {
     "data": {
      "text/html": [
       "<div>\n",
       "<style scoped>\n",
       "    .dataframe tbody tr th:only-of-type {\n",
       "        vertical-align: middle;\n",
       "    }\n",
       "\n",
       "    .dataframe tbody tr th {\n",
       "        vertical-align: top;\n",
       "    }\n",
       "\n",
       "    .dataframe thead th {\n",
       "        text-align: right;\n",
       "    }\n",
       "</style>\n",
       "<table border=\"1\" class=\"dataframe\">\n",
       "  <thead>\n",
       "    <tr style=\"text-align: right;\">\n",
       "      <th></th>\n",
       "      <th>lat</th>\n",
       "      <th>long</th>\n",
       "    </tr>\n",
       "  </thead>\n",
       "  <tbody>\n",
       "  </tbody>\n",
       "</table>\n",
       "</div>"
      ],
      "text/plain": [
       "Empty DataFrame\n",
       "Columns: [lat, long]\n",
       "Index: []"
      ]
     },
     "execution_count": 42,
     "metadata": {},
     "output_type": "execute_result"
    }
   ],
   "source": [
    "df[(df['long']+122.421321 == 0.000001)]"
   ]
  },
  {
   "cell_type": "code",
   "execution_count": null,
   "id": "ff235006",
   "metadata": {},
   "outputs": [],
   "source": []
  }
 ],
 "metadata": {
  "kernelspec": {
   "display_name": "Python 3 (ipykernel)",
   "language": "python",
   "name": "python3"
  },
  "language_info": {
   "codemirror_mode": {
    "name": "ipython",
    "version": 3
   },
   "file_extension": ".py",
   "mimetype": "text/x-python",
   "name": "python",
   "nbconvert_exporter": "python",
   "pygments_lexer": "ipython3",
   "version": "3.10.8"
  }
 },
 "nbformat": 4,
 "nbformat_minor": 5
}
